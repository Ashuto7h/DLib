{
 "cells": [
  {
   "cell_type": "code",
   "execution_count": 1,
   "metadata": {},
   "outputs": [],
   "source": [
    "RNAseq='UGUAAACGAAGACUGUGUUGACACAAGUGAUCGUUGGAGUUUGUCUGUGGUACCACGUAGACUGAGGACU\\nCCUCUUCAGACGGCAAUGACGGGACACCCCGUUCCACUUGCACCUACUUCAACCACCACUCCGGGACCCG\\nUCCAACCAUAGUUCCAAUGUUCUGUCCAAAUUCCUCUGGUUAUCUUUGACCCGUACACCUCUGUCUCUUC\\nUGAGAACCCAAAGACUAUCCGUGACUGAGAGAGACGGAUAACCAGAUAAAAGGGUGGGAAUCCGACGACC\\nACCAGAUGGGAACCUGGGUCUCCAAGAAACUCAGGAAACCCCUAGACAGGUGAGGACUACGACAAUACCC\\nGUUGGGAUUCCACUUCCGAGUACCGUUCUUUCACGAGCCACGGAAAUCACUACCGGACCGAGUGGACCUG\\nUUGGAGUUCCCGUGGAAACGGUGUGACUCACUCGACGUGACACUGUUCGACGUGCACCUAGGACUCUUGA\\nAGUCCCACUCAGAUACCCUGCGAACUACAAAAGAAAGGGGAAGAAAAGAUACCAAUUCAAGUACAGUAUC\\nCUUCCCCUAUUCAUUGUCCCAUGUCAAAUCUUACCCUUUGUCUGCUUACUAACGUAGUCACACCUUCAGA\\nGUCCUAGCAAAAUCAAAGAAAAUAAACGACAAGUAUUGUUAACAAAAGAAAACAAAUUAAGAACGAAAGA\\nAAAAAAAAGAAGAGGCGUUAAAAAUGAUAAUAUGAAUUACGGAAUUGUAACACAUAUUGUUUUCCUUUAU\\nAGAGACUCUAUGUAAUUCAUUGAAUUUUUUUUUGAAAUGUGUCAGACGGAUCAUGUAAUGAUAAACCUUA\\nUAUACACACGAAUAAACGUAUAAGUAUUAGAGGGAUGAAAUAAAAGAAAAUAAAAAUUAACUAUGUAUUA\\nGUAAUAUGUAUAAAUACCCAAUUUCACAUUACAAAAUUAUACACAUGUGUAUAACUGGUUUAGUCCCAUU\\nAAAACGUAAACAUUAAAAUUUUUUACGAAAGAAGAAAAUUAUAUGAAAAAACAAAUAGAAUAAAGAUUAU\\nGAAAGGGAUUAGAGAAAGAAAGUCCCGUUAUUACUAUGUUACAUAGUACGGAGAAACGUGGUAAGAUUUC\\nUUAUUGUCACUAUUAAAGACCCAAUUCCGUUAUCGUUAUAGAGACGUAUAUUUAUAAAGACGUAUAUUUA\\nACAUUGACUACAUUCUCCAAAGUAUAACGAUUAUCGUCGAUGUUAGGUCGAUGGUAAGACGAAAAUAAAA\\nUACCAACCCUAUUCCGACCUAAUAAGACUCAGGUUCGAUCCGGGAAAACGAUUAGUACAAGUAUGGAGAA\\nUAGAAGGAGGGUGUCGAGGACCCGUUGCACGACCAGACACACGACCGGGUAGUGAAACCGUUUCUUAAGU\\nGGGGUGGUCACGUCCGACGGAUAGUCUUUCACCACCGACCACACCGAUUACGGGACCGGGUGUUCAUAGU\\nGAUUCGAGCGAAAGAACGACAGGUUAAAGAUAAUUUCCAAGGAAACAAGGGAUUCAGGUUGAUGAUUUGA\\nCCCCCUAUAAUACUUCCCGGAACUCGUAGACCUAAGACGGAUUAUUUUUUGUAAAUAAAAGUAACGUU'"
   ]
  },
  {
   "cell_type": "code",
   "execution_count": 2,
   "metadata": {},
   "outputs": [],
   "source": [
    "rnaseq=RNAseq\n",
    "rnaseq=rnaseq.replace(\"\\n\", \"\")\n",
    "rnaseq=list(rnaseq)"
   ]
  },
  {
   "cell_type": "code",
   "execution_count": 3,
   "metadata": {},
   "outputs": [
    {
     "data": {
      "text/plain": [
       "{'U': 25.55970149253731,\n",
       " 'G': 19.900497512437813,\n",
       " 'A': 34.32835820895522,\n",
       " 'C': 20.211442786069654}"
      ]
     },
     "execution_count": 3,
     "metadata": {},
     "output_type": "execute_result"
    }
   ],
   "source": [
    "total_nucleotide=len(rnaseq)\n",
    "percentofUAGC={}\n",
    "\n",
    "for i in rnaseq:\n",
    "    percentofUAGC[i]=rnaseq.count(i)\n",
    "\n",
    "for i in percentofUAGC:\n",
    "    percentofUAGC[i]=(percentofUAGC[i]/total_nucleotide)*100\n",
    "\n",
    "percentofUAGC"
   ]
  },
  {
   "cell_type": "markdown",
   "metadata": {},
   "source": [
    "## Function for getting percent of UAGC in RNA sequence"
   ]
  },
  {
   "cell_type": "code",
   "execution_count": 4,
   "metadata": {},
   "outputs": [],
   "source": [
    "def percentUAGC(rnaseq):\n",
    "    \"\"\"\n",
    "    Pass a RNA(either mRNA or tRNA) sequence in UAGC format, will return a Percent of U,A,G,C (Uracil, Adenine, Guanine, Cytosine) in mRNA or tRNA sequence\n",
    "    \n",
    "    Input: RNA(either mRNA or tRNA) sequence in UAGC format\n",
    "    Output: Dictionary of Percent of U,A,G,C in sequence\n",
    "    \"\"\"\n",
    "    \n",
    "    rnaseq=rnaseq.replace(\"\\n\", \"\")\n",
    "    rnaseq=list(rnaseq)\n",
    "    \n",
    "    total_nucleotide=len(rnaseq)\n",
    "    percentofUAGC={}\n",
    "\n",
    "    for i in rnaseq:\n",
    "        percentofUAGC[i]=rnaseq.count(i)\n",
    "\n",
    "    for i in percentofUAGC:\n",
    "        percentofUAGC[i]=(percentofUAGC[i]/total_nucleotide)*100\n",
    "\n",
    "    return percentofUAGC"
   ]
  },
  {
   "cell_type": "markdown",
   "metadata": {},
   "source": [
    "## Testing"
   ]
  },
  {
   "cell_type": "code",
   "execution_count": 5,
   "metadata": {},
   "outputs": [
    {
     "data": {
      "text/plain": [
       "{'U': 25.55970149253731,\n",
       " 'G': 19.900497512437813,\n",
       " 'A': 34.32835820895522,\n",
       " 'C': 20.211442786069654}"
      ]
     },
     "execution_count": 5,
     "metadata": {},
     "output_type": "execute_result"
    }
   ],
   "source": [
    "percentUAGC(RNAseq)"
   ]
  }
 ],
 "metadata": {
  "kernelspec": {
   "display_name": "Python 3",
   "language": "python",
   "name": "python3"
  },
  "language_info": {
   "codemirror_mode": {
    "name": "ipython",
    "version": 3
   },
   "file_extension": ".py",
   "mimetype": "text/x-python",
   "name": "python",
   "nbconvert_exporter": "python",
   "pygments_lexer": "ipython3",
   "version": "3.8.5"
  }
 },
 "nbformat": 4,
 "nbformat_minor": 4
}
