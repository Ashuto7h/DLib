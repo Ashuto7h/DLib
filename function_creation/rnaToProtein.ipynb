{
 "cells": [
  {
   "cell_type": "code",
   "execution_count": 57,
   "metadata": {},
   "outputs": [],
   "source": [
    "RNAseq='UGUAAACGAAGACUGUGUUGACACAAGUGAUCGUUGGAGUUUGUCUGUGGUACCACGUAGACUGAGGACU\\nCCUCUUCAGACGGCAAUGACGGGACACCCCGUUCCACUUGCACCUACUUCAACCACCACUCCGGGACCCG\\nUCCAACCAUAGUUCCAAUGUUCUGUCCAAAUUCCUCUGGUUAUCUUUGACCCGUACACCUCUGUCUCUUC\\nUGAGAACCCAAAGACUAUCCGUGACUGAGAGAGACGGAUAACCAGAUAAAAGGGUGGGAAUCCGACGACC\\nACCAGAUGGGAACCUGGGUCUCCAAGAAACUCAGGAAACCCCUAGACAGGUGAGGACUACGACAAUACCC\\nGUUGGGAUUCCACUUCCGAGUACCGUUCUUUCACGAGCCACGGAAAUCACUACCGGACCGAGUGGACCUG\\nUUGGAGUUCCCGUGGAAACGGUGUGACUCACUCGACGUGACACUGUUCGACGUGCACCUAGGACUCUUGA\\nAGUCCCACUCAGAUACCCUGCGAACUACAAAAGAAAGGGGAAGAAAAGAUACCAAUUCAAGUACAGUAUC\\nCUUCCCCUAUUCAUUGUCCCAUGUCAAAUCUUACCCUUUGUCUGCUUACUAACGUAGUCACACCUUCAGA\\nGUCCUAGCAAAAUCAAAGAAAAUAAACGACAAGUAUUGUUAACAAAAGAAAACAAAUUAAGAACGAAAGA\\nAAAAAAAAGAAGAGGCGUUAAAAAUGAUAAUAUGAAUUACGGAAUUGUAACACAUAUUGUUUUCCUUUAU\\nAGAGACUCUAUGUAAUUCAUUGAAUUUUUUUUUGAAAUGUGUCAGACGGAUCAUGUAAUGAUAAACCUUA\\nUAUACACACGAAUAAACGUAUAAGUAUUAGAGGGAUGAAAUAAAAGAAAAUAAAAAUUAACUAUGUAUUA\\nGUAAUAUGUAUAAAUACCCAAUUUCACAUUACAAAAUUAUACACAUGUGUAUAACUGGUUUAGUCCCAUU\\nAAAACGUAAACAUUAAAAUUUUUUACGAAAGAAGAAAAUUAUAUGAAAAAACAAAUAGAAUAAAGAUUAU\\nGAAAGGGAUUAGAGAAAGAAAGUCCCGUUAUUACUAUGUUACAUAGUACGGAGAAACGUGGUAAGAUUUC\\nUUAUUGUCACUAUUAAAGACCCAAUUCCGUUAUCGUUAUAGAGACGUAUAUUUAUAAAGACGUAUAUUUA\\nACAUUGACUACAUUCUCCAAAGUAUAACGAUUAUCGUCGAUGUUAGGUCGAUGGUAAGACGAAAAUAAAA\\nUACCAACCCUAUUCCGACCUAAUAAGACUCAGGUUCGAUCCGGGAAAACGAUUAGUACAAGUAUGGAGAA\\nUAGAAGGAGGGUGUCGAGGACCCGUUGCACGACCAGACACACGACCGGGUAGUGAAACCGUUUCUUAAGU\\nGGGGUGGUCACGUCCGACGGAUAGUCUUUCACCACCGACCACACCGAUUACGGGACCGGGUGUUCAUAGU\\nGAUUCGAGCGAAAGAACGACAGGUUAAAGAUAAUUUCCAAGGAAACAAGGGAUUCAGGUUGAUGAUUUGA\\nCCCCCUAUAAUACUUCCCGGAACUCGUAGACCUAAGACGGAUUAUUUUUUGUAAAUAAAAGUAACGUU'"
   ]
  },
  {
   "cell_type": "code",
   "execution_count": 58,
   "metadata": {},
   "outputs": [],
   "source": [
    "RNAseq=RNAseq.replace(\"\\n\", \"\")"
   ]
  },
  {
   "cell_type": "code",
   "execution_count": 63,
   "metadata": {},
   "outputs": [],
   "source": [
    "#source : https://en.wikipedia.org/wiki/DNA_and_RNA_codon_tables\n",
    "\n",
    "RNACodons = {\n",
    "    \"GCU\": \"A\", \"GCC\": \"A\", \"GCA\": \"A\", \"GCG\": \"A\",\n",
    "    \"UGU\": \"C\", \"UGC\": \"C\",\n",
    "    \"GAU\": \"D\", \"GAC\": \"D\",\n",
    "    \"GAA\": \"E\", \"GAG\": \"E\",\n",
    "    \"UUU\": \"F\", \"UUC\": \"F\",\n",
    "    \"GGU\": \"G\", \"GGC\": \"G\", \"GGA\": \"G\", \"GGG\": \"G\",\n",
    "    \"CAU\": \"H\", \"CAC\": \"H\",\n",
    "    \"AUA\": \"I\", \"AUU\": \"I\", \"AUC\": \"I\",\n",
    "    \"AAA\": \"K\", \"AAG\": \"K\",\n",
    "    \"UUA\": \"L\", \"UUG\": \"L\", \"CUU\": \"L\", \"CUC\": \"L\", \"CUA\": \"L\", \"CUG\": \"L\",\n",
    "    \"AUG\": \"M\",\n",
    "    \"AAU\": \"N\", \"AAC\": \"N\",\n",
    "    \"CCU\": \"P\", \"CCC\": \"P\", \"CCA\": \"P\", \"CCG\": \"P\",\n",
    "    \"CAA\": \"Q\", \"CAG\": \"Q\",\n",
    "    \"CGU\": \"R\", \"CGC\": \"R\", \"CGA\": \"R\", \"CGG\": \"R\", \"AGA\": \"R\", \"AGG\": \"R\",\n",
    "    \"UCU\": \"S\", \"UCC\": \"S\", \"UCA\": \"S\", \"UCG\": \"S\", \"AGU\": \"S\", \"AGC\": \"S\",\n",
    "    \"ACU\": \"T\", \"ACC\": \"T\", \"ACA\": \"T\", \"ACG\": \"T\",\n",
    "    \"GUU\": \"V\", \"GUC\": \"V\", \"GUA\": \"V\", \"GUG\": \"V\",\n",
    "    \"UGG\": \"W\",\n",
    "    \"UAU\": \"Y\", \"UAC\": \"Y\",\n",
    "    \"UAA\": \"*\", \"UAG\": \"*\", \"UGA\": \"*\"\n",
    "}"
   ]
  },
  {
   "cell_type": "code",
   "execution_count": 64,
   "metadata": {},
   "outputs": [
    {
     "data": {
      "text/plain": [
       "'CKRRLC*HK*SLEFVCGTT*TEDSSSDGNDGTPRSTCTYFNHHSGTRPTIVPMFCPNSSGYL*PVHLCLF*EPKDYP*LRETDNQIKGWESDDHQMGTWVSKKLRKPLDR*GLRQYPLGFHFRVPFFHEPRKSLPDRVDLLEFPWKRCDSLDVTLFDVHLGLLKSHSDTLRTTKERGRKDTNSSTVSFPYSLSHVKSYPLSAY*RSHTFRVLAKSKKINDKYC*QKKTN*ERKKKKEEALKMII*ITEL*HILFSFIETLCNSLNFFLKCVRRIM***TLYTHE*TYKY*RDEIKENKN*LCISNMYKYPISHYKIIHMCITGLVPLKRKH*NFLRKKKII*KNK*NKDYERD*RKKVPLLLCYIVRRNVVRFLIVTIKDPIPLSL*RRIFIKTYI*H*LHSPKYNDYRRC*VDGKTKIKYQPYSDLIRLRFDPGKRLVQVWRIEGGCRGPVARPDTRPGSETVS*VGWSRPTDSLSPPTTPITGPGVHSDSSERTTG*R*FPRKQGIQVDDLTPYNTSRNS*T*DGLFFVNKSNV'"
      ]
     },
     "execution_count": 64,
     "metadata": {},
     "output_type": "execute_result"
    }
   ],
   "source": [
    "protein = \"\"\n",
    "for i in range(0, len(RNAseq), 3):\n",
    "    codon = RNAseq[i:i+3]\n",
    "    protein += RNACodons[codon]\n",
    "protein"
   ]
  },
  {
   "cell_type": "code",
   "execution_count": 65,
   "metadata": {},
   "outputs": [],
   "source": [
    "def rnaToProtein(rna_seq):\n",
    "    \"\"\"\n",
    "        Translates a RNA sequence to Protein sequence and returns a Protein sequence\n",
    "        \n",
    "        Input: RNA sequence\n",
    "        Output: Protein Translated Sequence\n",
    "    \"\"\"\n",
    "    rna_seq=rna_seq.replace(\"\\n\", \"\")\n",
    "    RNACodons = {\n",
    "        # 'M' - START, '*' - STOP\n",
    "        \"GCU\": \"A\", \"GCC\": \"A\", \"GCA\": \"A\", \"GCG\": \"A\",\n",
    "        \"UGU\": \"C\", \"UGC\": \"C\",\n",
    "        \"GAU\": \"D\", \"GAC\": \"D\",\n",
    "        \"GAA\": \"E\", \"GAG\": \"E\",\n",
    "        \"UUU\": \"F\", \"UUC\": \"F\",\n",
    "        \"GGU\": \"G\", \"GGC\": \"G\", \"GGA\": \"G\", \"GGG\": \"G\",\n",
    "        \"CAU\": \"H\", \"CAC\": \"H\",\n",
    "        \"AUA\": \"I\", \"AUU\": \"I\", \"AUC\": \"I\",\n",
    "        \"AAA\": \"K\", \"AAG\": \"K\",\n",
    "        \"UUA\": \"L\", \"UUG\": \"L\", \"CUU\": \"L\", \"CUC\": \"L\", \"CUA\": \"L\", \"CUG\": \"L\",\n",
    "        \"AUG\": \"M\",\n",
    "        \"AAU\": \"N\", \"AAC\": \"N\",\n",
    "        \"CCU\": \"P\", \"CCC\": \"P\", \"CCA\": \"P\", \"CCG\": \"P\",\n",
    "        \"CAA\": \"Q\", \"CAG\": \"Q\",\n",
    "        \"CGU\": \"R\", \"CGC\": \"R\", \"CGA\": \"R\", \"CGG\": \"R\", \"AGA\": \"R\", \"AGG\": \"R\",\n",
    "        \"UCU\": \"S\", \"UCC\": \"S\", \"UCA\": \"S\", \"UCG\": \"S\", \"AGU\": \"S\", \"AGC\": \"S\",\n",
    "        \"ACU\": \"T\", \"ACC\": \"T\", \"ACA\": \"T\", \"ACG\": \"T\",\n",
    "        \"GUU\": \"V\", \"GUC\": \"V\", \"GUA\": \"V\", \"GUG\": \"V\",\n",
    "        \"UGG\": \"W\",\n",
    "        \"UAU\": \"Y\", \"UAC\": \"Y\",\n",
    "        \"UAA\": \"*\", \"UAG\": \"*\", \"UGA\": \"*\"\n",
    "    }\n",
    "    \n",
    "    protein = \"\"\n",
    "    for i in range(0, len(rna_seq), 3):\n",
    "        codon = rna_seq[i:i+3]\n",
    "        protein += RNACodons[codon]\n",
    "    return protein"
   ]
  },
  {
   "cell_type": "code",
   "execution_count": 66,
   "metadata": {},
   "outputs": [
    {
     "data": {
      "text/plain": [
       "'CKRRLC*HK*SLEFVCGTT*TEDSSSDGNDGTPRSTCTYFNHHSGTRPTIVPMFCPNSSGYL*PVHLCLF*EPKDYP*LRETDNQIKGWESDDHQMGTWVSKKLRKPLDR*GLRQYPLGFHFRVPFFHEPRKSLPDRVDLLEFPWKRCDSLDVTLFDVHLGLLKSHSDTLRTTKERGRKDTNSSTVSFPYSLSHVKSYPLSAY*RSHTFRVLAKSKKINDKYC*QKKTN*ERKKKKEEALKMII*ITEL*HILFSFIETLCNSLNFFLKCVRRIM***TLYTHE*TYKY*RDEIKENKN*LCISNMYKYPISHYKIIHMCITGLVPLKRKH*NFLRKKKII*KNK*NKDYERD*RKKVPLLLCYIVRRNVVRFLIVTIKDPIPLSL*RRIFIKTYI*H*LHSPKYNDYRRC*VDGKTKIKYQPYSDLIRLRFDPGKRLVQVWRIEGGCRGPVARPDTRPGSETVS*VGWSRPTDSLSPPTTPITGPGVHSDSSERTTG*R*FPRKQGIQVDDLTPYNTSRNS*T*DGLFFVNKSNV'"
      ]
     },
     "execution_count": 66,
     "metadata": {},
     "output_type": "execute_result"
    }
   ],
   "source": [
    "rnaToProtein(RNAseq)"
   ]
  },
  {
   "cell_type": "code",
   "execution_count": null,
   "metadata": {},
   "outputs": [],
   "source": []
  }
 ],
 "metadata": {
  "kernelspec": {
   "display_name": "Python 3",
   "language": "python",
   "name": "python3"
  },
  "language_info": {
   "codemirror_mode": {
    "name": "ipython",
    "version": 3
   },
   "file_extension": ".py",
   "mimetype": "text/x-python",
   "name": "python",
   "nbconvert_exporter": "python",
   "pygments_lexer": "ipython3",
   "version": "3.8.5"
  }
 },
 "nbformat": 4,
 "nbformat_minor": 4
}
