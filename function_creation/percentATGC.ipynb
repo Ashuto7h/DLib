{
 "cells": [
  {
   "cell_type": "code",
   "execution_count": 88,
   "metadata": {},
   "outputs": [],
   "source": [
    "DNAseq = \"\"\"ATGTACTCATTCGTTTCGGAAGAGACAGGTACGTTAATAGTTAATAGCGTACTTCTTTTTCTTGCTTTCG\n",
    "TGGTATTCTTGCTAGTTACACTAGCCATCCTTACTGCGCTTCGATTGTGTGCGTACTGCTGCAATATTGT\n",
    "TAACGTGAGTCTTGTAAAACCTTCTTTTTACGTTTACTCTCGTGTTAAAAATCTGAATTCTTCTAGAGTT\n",
    "CCTGATCTTCTGGTCTAA\n",
    "\"\"\""
   ]
  },
  {
   "cell_type": "code",
   "execution_count": 89,
   "metadata": {},
   "outputs": [],
   "source": [
    "dnaseq=DNAseq\n",
    "dnaseq=dnaseq.replace(\"\\n\", \"\")\n",
    "dnaseq=list(dnaseq)"
   ]
  },
  {
   "cell_type": "code",
   "execution_count": 90,
   "metadata": {},
   "outputs": [
    {
     "data": {
      "text/plain": [
       "{'A': 21.49122807017544,\n",
       " 'T': 40.35087719298245,\n",
       " 'G': 18.421052631578945,\n",
       " 'C': 19.736842105263158}"
      ]
     },
     "execution_count": 90,
     "metadata": {},
     "output_type": "execute_result"
    }
   ],
   "source": [
    "total_nucleotide=len(dnaseq)\n",
    "percentofATGC={}\n",
    "\n",
    "for i in dnaseq:\n",
    "    percentofATGC[i]=dnaseq.count(i)\n",
    "\n",
    "for i in percentofATGC:\n",
    "    percentofATGC[i]=(percentofATGC[i]/total_nucleotide)*100\n",
    "\n",
    "percentofATGC"
   ]
  },
  {
   "cell_type": "code",
   "execution_count": 91,
   "metadata": {},
   "outputs": [],
   "source": [
    "def percentATGC(dnaseq):\n",
    "    \"\"\"\n",
    "    Pass a DNA sequence in ATGC format, will return a Percent of A,T,G,C (Adenine, Thymine, Guanine, Cytosine) in DNA sequence\n",
    "    \n",
    "    Input: DNA sequence in ATGC format\n",
    "    Output: Dictionary of Percent of A,T,G,C\n",
    "    \"\"\"\n",
    "    \n",
    "    dnaseq=dnaseq.replace(\"\\n\", \"\")\n",
    "    dnaseq=list(dnaseq)\n",
    "    \n",
    "    total_nucleotide=len(dnaseq)\n",
    "    percentofATGC={}\n",
    "\n",
    "    for i in dnaseq:\n",
    "        percentofATGC[i]=dnaseq.count(i)\n",
    "\n",
    "    for i in percentofATGC:\n",
    "        percentofATGC[i]=(percentofATGC[i]/total_nucleotide)*100\n",
    "\n",
    "    return percentofATGC"
   ]
  },
  {
   "cell_type": "code",
   "execution_count": 92,
   "metadata": {},
   "outputs": [
    {
     "data": {
      "text/plain": [
       "{'A': 21.49122807017544,\n",
       " 'T': 40.35087719298245,\n",
       " 'G': 18.421052631578945,\n",
       " 'C': 19.736842105263158}"
      ]
     },
     "execution_count": 92,
     "metadata": {},
     "output_type": "execute_result"
    }
   ],
   "source": [
    "percentATGC(DNAseq)"
   ]
  },
  {
   "cell_type": "code",
   "execution_count": null,
   "metadata": {},
   "outputs": [],
   "source": []
  }
 ],
 "metadata": {
  "kernelspec": {
   "display_name": "Python 3",
   "language": "python",
   "name": "python3"
  },
  "language_info": {
   "codemirror_mode": {
    "name": "ipython",
    "version": 3
   },
   "file_extension": ".py",
   "mimetype": "text/x-python",
   "name": "python",
   "nbconvert_exporter": "python",
   "pygments_lexer": "ipython3",
   "version": "3.8.5"
  }
 },
 "nbformat": 4,
 "nbformat_minor": 4
}
