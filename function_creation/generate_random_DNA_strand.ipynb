{
 "cells": [
  {
   "cell_type": "markdown",
   "metadata": {},
   "source": [
    "# GENERATE RANDOM DNA STRAND"
   ]
  },
  {
   "cell_type": "code",
   "execution_count": 11,
   "metadata": {},
   "outputs": [
    {
     "data": {
      "text/plain": [
       "'ATTATTATATTTTAAAACCTGAGGATGGATCAGGCAAAGGAAATTTGCTA'"
      ]
     },
     "execution_count": 11,
     "metadata": {},
     "output_type": "execute_result"
    }
   ],
   "source": [
    "\n",
    "#given n, this function genrates the random DNA strand of length n\n",
    "\n",
    "\n",
    "# import random library\n",
    "import random\n",
    "  \n",
    "# function to generate dna strands\n",
    "def generate_random_dna_strand(n):\n",
    "    \n",
    "    # list l created and in that storea all the types of nucleotides present in DNA\n",
    "    # 'A' -> Adenine\n",
    "    # 'C' -> Cytosine\n",
    "    # 'G' -> Guanine\n",
    "    # 'T' -> Thymine\n",
    "    l = ['C', 'A', 'G', 'T']\n",
    "    \n",
    "    # string res created to store the random strand created\n",
    "    res = \"\"\n",
    "    for i in range(0, n):\n",
    "        # creating the DNA strand by appending random characters from the list\n",
    "        res = res + random.choice(l)\n",
    "    return res\n",
    "\n",
    "\n",
    "# Testing\n",
    "# assuming n\n",
    "n = 50\n",
    "\n",
    "# calling the generate_random_dna_strand(n), to print the random strand\n",
    "generate_random_dna_strand(n)"
   ]
  },
  {
   "cell_type": "code",
   "execution_count": null,
   "metadata": {},
   "outputs": [],
   "source": []
  }
 ],
 "metadata": {
  "kernelspec": {
   "display_name": "Python 3",
   "language": "python",
   "name": "python3"
  },
  "language_info": {
   "codemirror_mode": {
    "name": "ipython",
    "version": 3
   },
   "file_extension": ".py",
   "mimetype": "text/x-python",
   "name": "python",
   "nbconvert_exporter": "python",
   "pygments_lexer": "ipython3",
   "version": "3.8.5"
  }
 },
 "nbformat": 4,
 "nbformat_minor": 4
}
