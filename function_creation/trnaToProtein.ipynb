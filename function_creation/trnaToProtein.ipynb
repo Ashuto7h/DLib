{
 "cells": [
  {
   "cell_type": "code",
   "execution_count": 54,
   "metadata": {},
   "outputs": [],
   "source": [
    "tRNAseq='ACAUUUGCUUCUGACACAACUGUGUUCACUAGCAACCUCAAACAGACACCAUGGUGCAUCUGACUCCUGAGGAGAAGUCUGCCGUUACUGCCCUGUGGGGCAAGGUGAACGUGGAUGAAGUUGGUGGUGAGGCCCUGGGCAGGUUGGUAUCAAGGUUACAAGACAGGUUUAAGGAGACCAAUAGAAACUGGGCAUGUGGAGACAGAGAAGACUCUUGGGUUUCUGAUAGGCACUGACUCUCUCUGCCUAUUGGUCUAUUUUCCCACCCUUAGGCUGCUGGUGGUCUACCCUUGGACCCAGAGGUUCUUUGAGUCCUUUGGGGAUCUGUCCACUCCUGAUGCUGUUAUGGGCAACCCUAAGGUGAAGGCUCAUGGCAAGAAAGUGCUCGGUGCCUUUAGUGAUGGCCUGGCUCACCUGGACAACCUCAAGGGCACCUUUGCCACACUGAGUGAGCUGCACUGUGACAAGCUGCACGUGGAUCCUGAGAACUUCAGGGUGAGUCUAUGGGACGCUUGAUGUUUUCUUUCCCCUUCUUUUCUAUGGUUAAGUUCAUGUCAUAGGAAGGGGAUAAGUAACAGGGUACAGUUUAGAAUGGGAAACAGACGAAUGAUUGCAUCAGUGUGGAAGUCUCAGGAUCGUUUUAGUUUCUUUUAUUUGCUGUUCAUAACAAUUGUUUUCUUUUGUUUAAUUCUUGCUUUCUUUUUUUUUCUUCUCCGCAAUUUUUACUAUUAUACUUAAUGCCUUAACAUUGUGUAUAACAAAAGGAAAUAUCUCUGAGAUACAUUAAGUAACUUAAAAAAAAACUUUACACAGUCUGCCUAGUACAUUACUAUUUGGAAUAUAUGUGUGCUUAUUUGCAUAUUCAUAAUCUCCCUACUUUAUUUUCUUUUAUUUUUAAUUGAUACAUAAUCAUUAUACAUAUUUAUGGGUUAAAGUGUAAUGUUUUAAUAUGUGUACACAUAUUGACCAAAUCAGGGUAAUUUUGCAUUUGUAAUUUUAAAAAAUGCUUUCUUCUUUUAAUAUACUUUUUUGUUUAUCUUAUUUCUAAUACUUUCCCUAAUCUCUUUCUUUCAGGGCAAUAAUGAUACAAUGUAUCAUGCCUCUUUGCACCAUUCUAAAGAAUAACAGUGAUAAUUUCUGGGUUAAGGCAAUAGCAAUAUCUCUGCAUAUAAAUAUUUCUGCAUAUAAAUUGUAACUGAUGUAAGAGGUUUCAUAUUGCUAAUAGCAGCUACAAUCCAGCUACCAUUCUGCUUUUAUUUUAUGGUUGGGAUAAGGCUGGAUUAUUCUGAGUCCAAGCUAGGCCCUUUUGCUAAUCAUGUUCAUACCUCUUAUCUUCCUCCCACAGCUCCUGGGCAACGUGCUGGUCUGUGUGCUGGCCCAUCACUUUGGCAAAGAAUUCACCCCACCAGUGCAGGCUGCCUAUCAGAAAGUGGUGGCUGGUGUGGCUAAUGCCCUGGCCCACAAGUAUCACUAAGCUCGCUUUCUUGCUGUCCAAUUUCUAUUAAAGGUUCCUUUGUUCCCUAAGUCCAACUACUAAACUGGGGGAUAUUAUGAAGGGCCUUGAGCAUCUGGAUUCUGCCUAAUAAAAAACAUUUAUUUUCAUUGCAA'"
   ]
  },
  {
   "cell_type": "code",
   "execution_count": 55,
   "metadata": {},
   "outputs": [],
   "source": [
    "tRNAseq=tRNAseq.replace(\"\\n\", \"\")"
   ]
  },
  {
   "cell_type": "code",
   "execution_count": 56,
   "metadata": {},
   "outputs": [],
   "source": [
    "#tRNA to mRNA\n",
    "mapping_for_mRNA = tRNAseq.maketrans(\"AUCG\",\"UAGC\")\n",
    "mRNAseq = tRNAseq.translate(mapping_for_mRNA)"
   ]
  },
  {
   "cell_type": "code",
   "execution_count": 57,
   "metadata": {},
   "outputs": [
    {
     "data": {
      "text/plain": [
       "'UGUAAACGAAGACUGUGUUGACACAAGUGAUCGUUGGAGUUUGUCUGUGGUACCACGUAGACUGAGGACUCCUCUUCAGACGGCAAUGACGGGACACCCCGUUCCACUUGCACCUACUUCAACCACCACUCCGGGACCCGUCCAACCAUAGUUCCAAUGUUCUGUCCAAAUUCCUCUGGUUAUCUUUGACCCGUACACCUCUGUCUCUUCUGAGAACCCAAAGACUAUCCGUGACUGAGAGAGACGGAUAACCAGAUAAAAGGGUGGGAAUCCGACGACCACCAGAUGGGAACCUGGGUCUCCAAGAAACUCAGGAAACCCCUAGACAGGUGAGGACUACGACAAUACCCGUUGGGAUUCCACUUCCGAGUACCGUUCUUUCACGAGCCACGGAAAUCACUACCGGACCGAGUGGACCUGUUGGAGUUCCCGUGGAAACGGUGUGACUCACUCGACGUGACACUGUUCGACGUGCACCUAGGACUCUUGAAGUCCCACUCAGAUACCCUGCGAACUACAAAAGAAAGGGGAAGAAAAGAUACCAAUUCAAGUACAGUAUCCUUCCCCUAUUCAUUGUCCCAUGUCAAAUCUUACCCUUUGUCUGCUUACUAACGUAGUCACACCUUCAGAGUCCUAGCAAAAUCAAAGAAAAUAAACGACAAGUAUUGUUAACAAAAGAAAACAAAUUAAGAACGAAAGAAAAAAAAAGAAGAGGCGUUAAAAAUGAUAAUAUGAAUUACGGAAUUGUAACACAUAUUGUUUUCCUUUAUAGAGACUCUAUGUAAUUCAUUGAAUUUUUUUUUGAAAUGUGUCAGACGGAUCAUGUAAUGAUAAACCUUAUAUACACACGAAUAAACGUAUAAGUAUUAGAGGGAUGAAAUAAAAGAAAAUAAAAAUUAACUAUGUAUUAGUAAUAUGUAUAAAUACCCAAUUUCACAUUACAAAAUUAUACACAUGUGUAUAACUGGUUUAGUCCCAUUAAAACGUAAACAUUAAAAUUUUUUACGAAAGAAGAAAAUUAUAUGAAAAAACAAAUAGAAUAAAGAUUAUGAAAGGGAUUAGAGAAAGAAAGUCCCGUUAUUACUAUGUUACAUAGUACGGAGAAACGUGGUAAGAUUUCUUAUUGUCACUAUUAAAGACCCAAUUCCGUUAUCGUUAUAGAGACGUAUAUUUAUAAAGACGUAUAUUUAACAUUGACUACAUUCUCCAAAGUAUAACGAUUAUCGUCGAUGUUAGGUCGAUGGUAAGACGAAAAUAAAAUACCAACCCUAUUCCGACCUAAUAAGACUCAGGUUCGAUCCGGGAAAACGAUUAGUACAAGUAUGGAGAAUAGAAGGAGGGUGUCGAGGACCCGUUGCACGACCAGACACACGACCGGGUAGUGAAACCGUUUCUUAAGUGGGGUGGUCACGUCCGACGGAUAGUCUUUCACCACCGACCACACCGAUUACGGGACCGGGUGUUCAUAGUGAUUCGAGCGAAAGAACGACAGGUUAAAGAUAAUUUCCAAGGAAACAAGGGAUUCAGGUUGAUGAUUUGACCCCCUAUAAUACUUCCCGGAACUCGUAGACCUAAGACGGAUUAUUUUUUGUAAAUAAAAGUAACGUU'"
      ]
     },
     "execution_count": 57,
     "metadata": {},
     "output_type": "execute_result"
    }
   ],
   "source": [
    "RNAseq=mRNAseq\n",
    "RNAseq"
   ]
  },
  {
   "cell_type": "code",
   "execution_count": 58,
   "metadata": {},
   "outputs": [],
   "source": [
    "#source : https://en.wikipedia.org/wiki/DNA_and_RNA_codon_tables\n",
    "\n",
    "RNACodons = {\n",
    "    \"GCU\": \"A\", \"GCC\": \"A\", \"GCA\": \"A\", \"GCG\": \"A\",\n",
    "    \"UGU\": \"C\", \"UGC\": \"C\",\n",
    "    \"GAU\": \"D\", \"GAC\": \"D\",\n",
    "    \"GAA\": \"E\", \"GAG\": \"E\",\n",
    "    \"UUU\": \"F\", \"UUC\": \"F\",\n",
    "    \"GGU\": \"G\", \"GGC\": \"G\", \"GGA\": \"G\", \"GGG\": \"G\",\n",
    "    \"CAU\": \"H\", \"CAC\": \"H\",\n",
    "    \"AUA\": \"I\", \"AUU\": \"I\", \"AUC\": \"I\",\n",
    "    \"AAA\": \"K\", \"AAG\": \"K\",\n",
    "    \"UUA\": \"L\", \"UUG\": \"L\", \"CUU\": \"L\", \"CUC\": \"L\", \"CUA\": \"L\", \"CUG\": \"L\",\n",
    "    \"AUG\": \"M\",\n",
    "    \"AAU\": \"N\", \"AAC\": \"N\",\n",
    "    \"CCU\": \"P\", \"CCC\": \"P\", \"CCA\": \"P\", \"CCG\": \"P\",\n",
    "    \"CAA\": \"Q\", \"CAG\": \"Q\",\n",
    "    \"CGU\": \"R\", \"CGC\": \"R\", \"CGA\": \"R\", \"CGG\": \"R\", \"AGA\": \"R\", \"AGG\": \"R\",\n",
    "    \"UCU\": \"S\", \"UCC\": \"S\", \"UCA\": \"S\", \"UCG\": \"S\", \"AGU\": \"S\", \"AGC\": \"S\",\n",
    "    \"ACU\": \"T\", \"ACC\": \"T\", \"ACA\": \"T\", \"ACG\": \"T\",\n",
    "    \"GUU\": \"V\", \"GUC\": \"V\", \"GUA\": \"V\", \"GUG\": \"V\",\n",
    "    \"UGG\": \"W\",\n",
    "    \"UAU\": \"Y\", \"UAC\": \"Y\",\n",
    "    \"UAA\": \"*\", \"UAG\": \"*\", \"UGA\": \"*\"\n",
    "}"
   ]
  },
  {
   "cell_type": "code",
   "execution_count": 59,
   "metadata": {},
   "outputs": [
    {
     "data": {
      "text/plain": [
       "'CKRRLC*HK*SLEFVCGTT*TEDSSSDGNDGTPRSTCTYFNHHSGTRPTIVPMFCPNSSGYL*PVHLCLF*EPKDYP*LRETDNQIKGWESDDHQMGTWVSKKLRKPLDR*GLRQYPLGFHFRVPFFHEPRKSLPDRVDLLEFPWKRCDSLDVTLFDVHLGLLKSHSDTLRTTKERGRKDTNSSTVSFPYSLSHVKSYPLSAY*RSHTFRVLAKSKKINDKYC*QKKTN*ERKKKKEEALKMII*ITEL*HILFSFIETLCNSLNFFLKCVRRIM***TLYTHE*TYKY*RDEIKENKN*LCISNMYKYPISHYKIIHMCITGLVPLKRKH*NFLRKKKII*KNK*NKDYERD*RKKVPLLLCYIVRRNVVRFLIVTIKDPIPLSL*RRIFIKTYI*H*LHSPKYNDYRRC*VDGKTKIKYQPYSDLIRLRFDPGKRLVQVWRIEGGCRGPVARPDTRPGSETVS*VGWSRPTDSLSPPTTPITGPGVHSDSSERTTG*R*FPRKQGIQVDDLTPYNTSRNS*T*DGLFFVNKSNV'"
      ]
     },
     "execution_count": 59,
     "metadata": {},
     "output_type": "execute_result"
    }
   ],
   "source": [
    "protein = \"\"\n",
    "for i in range(0, len(RNAseq), 3):\n",
    "    codon = RNAseq[i:i+3]\n",
    "    protein += RNACodons[codon]\n",
    "protein"
   ]
  },
  {
   "cell_type": "code",
   "execution_count": 60,
   "metadata": {},
   "outputs": [
    {
     "data": {
      "text/plain": [
       "{'A': 4,\n",
       " 'C': 2,\n",
       " 'D': 2,\n",
       " 'E': 2,\n",
       " 'F': 2,\n",
       " 'G': 4,\n",
       " 'H': 2,\n",
       " 'I': 3,\n",
       " 'K': 2,\n",
       " 'L': 6,\n",
       " 'M': 1,\n",
       " 'N': 2,\n",
       " 'P': 4,\n",
       " 'Q': 2,\n",
       " 'R': 6,\n",
       " 'S': 6,\n",
       " 'T': 4,\n",
       " 'V': 4,\n",
       " 'W': 1,\n",
       " 'Y': 2,\n",
       " '*': 3}"
      ]
     },
     "execution_count": 60,
     "metadata": {},
     "output_type": "execute_result"
    }
   ],
   "source": [
    "proteins=list(RNACodons.values())\n",
    "proteincount={}\n",
    "for i in proteins:\n",
    "    proteincount[i]=proteins.count(i)\n",
    "proteincount"
   ]
  },
  {
   "cell_type": "markdown",
   "metadata": {},
   "source": [
    "## Function for converting tRNA to Protein sequence"
   ]
  },
  {
   "cell_type": "code",
   "execution_count": 61,
   "metadata": {},
   "outputs": [],
   "source": [
    "def trnaToProtein(trna_seq,proteincount=False):\n",
    "    \"\"\"\n",
    "        Translates a tRNA sequence to Protein sequence and returns a Protein sequence, if second parameter True then returns a Protein count along with Protein sequence\n",
    "        \n",
    "        Input: tRNA sequence, and Boolean Parameter for Protein count\n",
    "        Output: Protein Translated Sequence, by default. If second_parameter set to True, will return a Tuple of (Protein,Dictionary of Protein Count)\n",
    "    \"\"\"\n",
    "    trna_seq=trna_seq.replace(\"\\n\", \"\")\n",
    "    \n",
    "    #tRNA to mRNA\n",
    "    mapping_for_mRNA = trna_seq.maketrans(\"AUCG\",\"UAGC\")\n",
    "    mRNAseq = trna_seq.translate(mapping_for_mRNA)\n",
    "    \n",
    "    RNACodons = {\n",
    "        # 'M' - START, '*' - STOP\\n\"\n",
    "        \"GCU\": \"A\", \"GCC\": \"A\", \"GCA\": \"A\", \"GCG\": \"A\",\n",
    "        \"UGU\": \"C\", \"UGC\": \"C\",\n",
    "        \"GAU\": \"D\", \"GAC\": \"D\",\n",
    "        \"GAA\": \"E\", \"GAG\": \"E\",\n",
    "        \"UUU\": \"F\", \"UUC\": \"F\",\n",
    "        \"GGU\": \"G\", \"GGC\": \"G\", \"GGA\": \"G\", \"GGG\": \"G\",\n",
    "        \"CAU\": \"H\", \"CAC\": \"H\",\n",
    "        \"AUA\": \"I\", \"AUU\": \"I\", \"AUC\": \"I\",\n",
    "        \"AAA\": \"K\", \"AAG\": \"K\",\n",
    "        \"UUA\": \"L\", \"UUG\": \"L\", \"CUU\": \"L\", \"CUC\": \"L\", \"CUA\": \"L\", \"CUG\": \"L\",\n",
    "        \"AUG\": \"M\",\n",
    "        \"AAU\": \"N\", \"AAC\": \"N\",\n",
    "        \"CCU\": \"P\", \"CCC\": \"P\", \"CCA\": \"P\", \"CCG\": \"P\",\n",
    "        \"CAA\": \"Q\", \"CAG\": \"Q\",\n",
    "        \"CGU\": \"R\", \"CGC\": \"R\", \"CGA\": \"R\", \"CGG\": \"R\", \"AGA\": \"R\", \"AGG\": \"R\",\n",
    "        \"UCU\": \"S\", \"UCC\": \"S\", \"UCA\": \"S\", \"UCG\": \"S\", \"AGU\": \"S\", \"AGC\": \"S\",\n",
    "        \"ACU\": \"T\", \"ACC\": \"T\", \"ACA\": \"T\", \"ACG\": \"T\",\n",
    "        \"GUU\": \"V\", \"GUC\": \"V\", \"GUA\": \"V\", \"GUG\": \"V\",\n",
    "        \"UGG\": \"W\",\n",
    "        \"UAU\": \"Y\", \"UAC\": \"Y\",\n",
    "        \"UAA\": \"*\", \"UAG\": \"*\", \"UGA\": \"*\"\n",
    "    }\n",
    "    \n",
    "    protein = \"\"\n",
    "    for i in range(0, len(mRNAseq), 3):\n",
    "        codon = mRNAseq[i:i+3]\n",
    "        protein += RNACodons[codon]\n",
    "    \n",
    "    if(proteincount==False):\n",
    "        return protein\n",
    "    else:\n",
    "        proteins=list(RNACodons.values())\n",
    "        proteincount={}\n",
    "        for i in proteins:\n",
    "            proteincount[i]=proteins.count(i)\n",
    "        return protein,proteincount"
   ]
  },
  {
   "cell_type": "markdown",
   "metadata": {},
   "source": [
    "## Testing"
   ]
  },
  {
   "cell_type": "code",
   "execution_count": 62,
   "metadata": {},
   "outputs": [
    {
     "data": {
      "text/plain": [
       "('TFASDTTVFTSNLKQTPWCI*LLRRSLPLLPCGAR*TWMKLVVRPWAGWYQGYKTGLRRPIETGHVETEKTLGFLIGTDSLCLLVYFPTLRLLVVYPWTQRFFESFGDLSTPDAVMGNPKVKAHGKKVLGAFSDGLAHLDNLKGTFATLSELHCDKLHVDPENFRVSLWDA*CFLSPSFLWLSSCHRKGISNRVQFRMGNRRMIASVWKSQDRFSFFYLLFITIVFFCLILAFFFFLLRNFYYYT*CLNIVYNKRKYL*DTLSNLKKNFTQSA*YITIWNICVLICIFIISLLYFLLFLIDT*SLYIFMG*SVMF*YVYTY*PNQGNFAFVILKNAFFF*YTFLFILFLILSLISFFQGNNDTMYHASLHHSKE*Q**FLG*GNSNISAYKYFCI*IVTDVRGFILLIAATIQLPFCFYFMVGIRLDYSESKLGPFANHVHTSYLPPTAPGQRAGLCAGPSLWQRIHPTSAGCLSESGGWCG*CPGPQVSLSSLSCCPISIKGSFVP*VQLLNWGIL*RALSIWILPNKKHLFSLQ',\n",
       " {'A': 4,\n",
       "  'C': 2,\n",
       "  'D': 2,\n",
       "  'E': 2,\n",
       "  'F': 2,\n",
       "  'G': 4,\n",
       "  'H': 2,\n",
       "  'I': 3,\n",
       "  'K': 2,\n",
       "  'L': 6,\n",
       "  'M': 1,\n",
       "  'N': 2,\n",
       "  'P': 4,\n",
       "  'Q': 2,\n",
       "  'R': 6,\n",
       "  'S': 6,\n",
       "  'T': 4,\n",
       "  'V': 4,\n",
       "  'W': 1,\n",
       "  'Y': 2,\n",
       "  '*': 3})"
      ]
     },
     "execution_count": 62,
     "metadata": {},
     "output_type": "execute_result"
    }
   ],
   "source": [
    "rnaToProtein(tRNAseq,True)"
   ]
  }
 ],
 "metadata": {
  "kernelspec": {
   "display_name": "Python 3",
   "language": "python",
   "name": "python3"
  },
  "language_info": {
   "codemirror_mode": {
    "name": "ipython",
    "version": 3
   },
   "file_extension": ".py",
   "mimetype": "text/x-python",
   "name": "python",
   "nbconvert_exporter": "python",
   "pygments_lexer": "ipython3",
   "version": "3.8.5"
  }
 },
 "nbformat": 4,
 "nbformat_minor": 4
}
